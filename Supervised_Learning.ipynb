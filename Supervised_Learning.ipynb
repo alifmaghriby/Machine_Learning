{
  "nbformat": 4,
  "nbformat_minor": 0,
  "metadata": {
    "colab": {
      "provenance": [],
      "authorship_tag": "ABX9TyOkCo3gghUWYy3z3JBRuSKp",
      "include_colab_link": true
    },
    "kernelspec": {
      "name": "python3",
      "display_name": "Python 3"
    },
    "language_info": {
      "name": "python"
    }
  },
  "cells": [
    {
      "cell_type": "markdown",
      "metadata": {
        "id": "view-in-github",
        "colab_type": "text"
      },
      "source": [
        "<a href=\"https://colab.research.google.com/github/alifmaghriby/Machine_Learning/blob/main/Supervised_Learning.ipynb\" target=\"_parent\"><img src=\"https://colab.research.google.com/assets/colab-badge.svg\" alt=\"Open In Colab\"/></a>"
      ]
    },
    {
      "cell_type": "markdown",
      "source": [
        "Linear Regression"
      ],
      "metadata": {
        "id": "OSdeiJCPBNXV"
      }
    },
    {
      "cell_type": "code",
      "execution_count": null,
      "metadata": {
        "id": "WNN6ddD5A9Yk"
      },
      "outputs": [],
      "source": [
        "import pandas as pd\n",
        "from sklearn.linear_model import LinearRegression\n",
        "\n",
        "# Load data from Excel\n",
        "data = pd.read_excel(\"your_excel_file.xlsx\")\n",
        "\n",
        "# Assuming 'X' and 'y' are the columns in your Excel file\n",
        "X = data[['X_column_name']]\n",
        "y = data['y_column_name']\n",
        "\n",
        "# Create and fit the model\n",
        "model = LinearRegression()\n",
        "model.fit(X, y)\n",
        "\n",
        "# Make predictions\n",
        "new_data = pd.DataFrame({'X_column_name': [new_value]})\n",
        "prediction = model.predict(new_data)\n",
        "print(\"Linear Regression Prediction:\", prediction)\n"
      ]
    },
    {
      "cell_type": "markdown",
      "source": [
        "Logistic Regression"
      ],
      "metadata": {
        "id": "ZAmNG-NoBR8j"
      }
    },
    {
      "cell_type": "code",
      "source": [
        "import pandas as pd\n",
        "from sklearn.linear_model import LogisticRegression\n",
        "\n",
        "# Load data from Excel\n",
        "data = pd.read_excel(\"your_excel_file.xlsx\")\n",
        "\n",
        "# Assuming 'X' and 'y' are the columns in your Excel file\n",
        "X = data[['X_column_name']]\n",
        "y = data['y_column_name']\n",
        "\n",
        "# Create and fit the model\n",
        "model = LogisticRegression()\n",
        "model.fit(X, y)\n",
        "\n",
        "# Make predictions\n",
        "new_data = pd.DataFrame({'X_column_name': [new_value]})\n",
        "prediction = model.predict(new_data)\n",
        "print(\"Logistic Regression Prediction:\", prediction)\n"
      ],
      "metadata": {
        "id": "CMEWpwEuBT-B"
      },
      "execution_count": null,
      "outputs": []
    },
    {
      "cell_type": "markdown",
      "source": [
        "Support Vector Machines (SVM)"
      ],
      "metadata": {
        "id": "cjm5JFNOBV9P"
      }
    },
    {
      "cell_type": "code",
      "source": [
        "import pandas as pd\n",
        "from sklearn.svm import SVC\n",
        "\n",
        "# Load data from Excel\n",
        "data = pd.read_excel(\"your_excel_file.xlsx\")\n",
        "\n",
        "# Assuming 'X' and 'y' are the columns in your Excel file\n",
        "X = data[['X1_column_name', 'X2_column_name']]  # Use all relevant columns\n",
        "y = data['y_column_name']\n",
        "\n",
        "# Create and fit the model\n",
        "model = SVC(kernel='linear')\n",
        "model.fit(X, y)\n",
        "\n",
        "# Make predictions\n",
        "new_data = pd.DataFrame({'X1_column_name': [new_value1], 'X2_column_name': [new_value2]})\n",
        "prediction = model.predict(new_data)\n",
        "print(\"SVM Prediction:\", prediction)\n"
      ],
      "metadata": {
        "id": "3O3cOb65BX9k"
      },
      "execution_count": null,
      "outputs": []
    },
    {
      "cell_type": "markdown",
      "source": [
        "Decision Trees"
      ],
      "metadata": {
        "id": "MHlPudG8BZJM"
      }
    },
    {
      "cell_type": "code",
      "source": [
        "import pandas as pd\n",
        "from sklearn.tree import DecisionTreeClassifier\n",
        "\n",
        "# Load data from Excel\n",
        "data = pd.read_excel(\"your_excel_file.xlsx\")\n",
        "\n",
        "# Assuming 'X' and 'y' are the columns in your Excel file\n",
        "X = data[['X_column_name']]\n",
        "y = data['y_column_name']\n",
        "\n",
        "# Create and fit the model\n",
        "model = DecisionTreeClassifier()\n",
        "model.fit(X, y)\n",
        "\n",
        "# Make predictions\n",
        "new_data = pd.DataFrame({'X_column_name': [new_value]})\n",
        "prediction = model.predict(new_data)\n",
        "print(\"Decision Tree Prediction:\", prediction)\n"
      ],
      "metadata": {
        "id": "1uuGeOuhBmDf"
      },
      "execution_count": null,
      "outputs": []
    },
    {
      "cell_type": "markdown",
      "source": [
        "Random Forest"
      ],
      "metadata": {
        "id": "ngxOOewjBpAw"
      }
    },
    {
      "cell_type": "code",
      "source": [
        "import pandas as pd\n",
        "from sklearn.ensemble import RandomForestClassifier\n",
        "\n",
        "# Load data from Excel\n",
        "data = pd.read_excel(\"your_excel_file.xlsx\")\n",
        "\n",
        "# Assuming 'X' and 'y' are the columns in your Excel file\n",
        "X = data[['X_column_name']]\n",
        "y = data['y_column_name']\n",
        "\n",
        "# Create and fit the model\n",
        "model = RandomForestClassifier()\n",
        "model.fit(X, y)\n",
        "\n",
        "# Make predictions\n",
        "new_data = pd.DataFrame({'X_column_name': [new_value]})\n",
        "prediction = model.predict(new_data)\n",
        "print(\"Random Forest Prediction:\", prediction)\n"
      ],
      "metadata": {
        "id": "REByGJILBw2v"
      },
      "execution_count": null,
      "outputs": []
    },
    {
      "cell_type": "markdown",
      "source": [
        "Neural Networks (Deep Learning)"
      ],
      "metadata": {
        "id": "8JCxdI5KBzTV"
      }
    },
    {
      "cell_type": "code",
      "source": [
        "import pandas as pd\n",
        "import numpy as np\n",
        "from tensorflow.keras.models import Sequential\n",
        "from tensorflow.keras.layers import Dense\n",
        "\n",
        "# Load data from Excel\n",
        "data = pd.read_excel(\"your_excel_file.xlsx\")\n",
        "\n",
        "# Assuming 'X' and 'y' are the columns in your Excel file\n",
        "X = data[['X_column_name']]\n",
        "y = data['y_column_name']\n",
        "\n",
        "# Create a neural network model\n",
        "model = Sequential()\n",
        "model.add(Dense(1, input_dim=1))\n",
        "\n",
        "# Compile the model\n",
        "model.compile(loss='mean_squared_error', optimizer='adam')\n",
        "\n",
        "# Fit the model\n",
        "model.fit(X, y, epochs=100, batch_size=10)\n",
        "\n",
        "# Make predictions\n",
        "new_data = pd.DataFrame({'X_column_name': [new_value]})\n",
        "prediction = model.predict(new_data)\n",
        "print(\"Neural Network Prediction:\", prediction)\n"
      ],
      "metadata": {
        "id": "JuOma26AB0oT"
      },
      "execution_count": null,
      "outputs": []
    }
  ]
}