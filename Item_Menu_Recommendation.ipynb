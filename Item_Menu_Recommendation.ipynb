{
  "nbformat": 4,
  "nbformat_minor": 0,
  "metadata": {
    "colab": {
      "provenance": [],
      "authorship_tag": "ABX9TyPKpgtmkEZXEdtVdeaPrlRx",
      "include_colab_link": true
    },
    "kernelspec": {
      "name": "python3",
      "display_name": "Python 3"
    },
    "language_info": {
      "name": "python"
    }
  },
  "cells": [
    {
      "cell_type": "markdown",
      "metadata": {
        "id": "view-in-github",
        "colab_type": "text"
      },
      "source": [
        "<a href=\"https://colab.research.google.com/github/alifmaghriby/Machine_Learning/blob/main/Item_Menu_Recommendation.ipynb\" target=\"_parent\"><img src=\"https://colab.research.google.com/assets/colab-badge.svg\" alt=\"Open In Colab\"/></a>"
      ]
    },
    {
      "cell_type": "code",
      "execution_count": 4,
      "metadata": {
        "colab": {
          "base_uri": "https://localhost:8080/"
        },
        "id": "F1iXgfSL57Wg",
        "outputId": "7b1caef2-4b75-46e0-bd7c-748a2ce69153"
      },
      "outputs": [
        {
          "output_type": "stream",
          "name": "stdout",
          "text": [
            "Top 5 popular items: Tea Ice, Coffee  Milk, French Fries, Mendoan, Air Mineral\n"
          ]
        }
      ],
      "source": [
        "import pandas as pd\n",
        "\n",
        "# Load the dataset from the CSV file\n",
        "df = pd.read_csv(\"Item All Merchant.csv\")\n",
        "\n",
        "# Assuming your CSV file has columns: 'item_name' and 'item_quantity'\n",
        "# You may need to adjust column names accordingly\n",
        "\n",
        "# Calculate the popularity of items based on the total quantity sold\n",
        "item_popularity = df.groupby('item_name')['item_quantity'].sum().reset_index()\n",
        "\n",
        "# Sort items by popularity in descending order\n",
        "item_popularity = item_popularity.sort_values(by='item_quantity', ascending=False)\n",
        "\n",
        "# Define a function to get popular item recommendations\n",
        "def get_popular_item_recommendations(num_recommendations=5):\n",
        "    popular_items = item_popularity['item_name'].head(num_recommendations).tolist()\n",
        "    return popular_items\n",
        "\n",
        "# Example: Get popular item recommendations\n",
        "num_recommendations = 5\n",
        "popular_recommendations = get_popular_item_recommendations(num_recommendations)\n",
        "\n",
        "print(f\"Top {num_recommendations} popular items: {', '.join(popular_recommendations)}\")\n"
      ]
    }
  ]
}