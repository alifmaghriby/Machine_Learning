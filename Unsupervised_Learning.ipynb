{
  "nbformat": 4,
  "nbformat_minor": 0,
  "metadata": {
    "colab": {
      "provenance": [],
      "authorship_tag": "ABX9TyOyhvRH2PLZlFpSXr5dJ2LN",
      "include_colab_link": true
    },
    "kernelspec": {
      "name": "python3",
      "display_name": "Python 3"
    },
    "language_info": {
      "name": "python"
    }
  },
  "cells": [
    {
      "cell_type": "markdown",
      "metadata": {
        "id": "view-in-github",
        "colab_type": "text"
      },
      "source": [
        "<a href=\"https://colab.research.google.com/github/alifmaghriby/Machine_Learning/blob/main/Unsupervised_Learning.ipynb\" target=\"_parent\"><img src=\"https://colab.research.google.com/assets/colab-badge.svg\" alt=\"Open In Colab\"/></a>"
      ]
    },
    {
      "cell_type": "markdown",
      "source": [
        "K-Means Clustering"
      ],
      "metadata": {
        "id": "9sGi7iuyC3us"
      }
    },
    {
      "cell_type": "code",
      "execution_count": null,
      "metadata": {
        "id": "6f7qwbK7CvGf"
      },
      "outputs": [],
      "source": [
        "import pandas as pd\n",
        "from sklearn.cluster import KMeans\n",
        "\n",
        "# Load data from Excel\n",
        "data = pd.read_excel(\"your_excel_file.xlsx\")\n",
        "\n",
        "# Assuming 'X1' and 'X2' are the features you want to cluster\n",
        "X = data[['X1_column_name', 'X2_column_name']]  # Use appropriate column names\n",
        "\n",
        "# Create and fit the K-Means model\n",
        "kmeans = KMeans(n_clusters=3)  # Adjust the number of clusters as needed\n",
        "kmeans.fit(X)\n",
        "\n",
        "# Get cluster labels for each data point\n",
        "cluster_labels = kmeans.labels_\n",
        "print(\"K-Means Cluster Labels:\", cluster_labels)\n"
      ]
    },
    {
      "cell_type": "markdown",
      "source": [
        "Hierarchical Clustering"
      ],
      "metadata": {
        "id": "c-Bv6rKPC9TC"
      }
    },
    {
      "cell_type": "code",
      "source": [
        "import pandas as pd\n",
        "import scipy.cluster.hierarchy as sch\n",
        "import matplotlib.pyplot as plt\n",
        "\n",
        "# Load data from Excel\n",
        "data = pd.read_excel(\"your_excel_file.xlsx\")\n",
        "\n",
        "# Assuming 'X1' and 'X2' are the features you want to cluster\n",
        "X = data[['X1_column_name', 'X2_column_name']]  # Use appropriate column names\n",
        "\n",
        "# Perform hierarchical clustering\n",
        "dendrogram = sch.dendrogram(sch.linkage(X, method='ward'))\n",
        "\n",
        "# Plot the dendrogram (hierarchical tree)\n",
        "plt.show()\n"
      ],
      "metadata": {
        "id": "1lJr4awxC_B1"
      },
      "execution_count": null,
      "outputs": []
    },
    {
      "cell_type": "markdown",
      "source": [
        "Principal Component Analysis (PCA)"
      ],
      "metadata": {
        "id": "d6rF7xOpDAqO"
      }
    },
    {
      "cell_type": "code",
      "source": [
        "import pandas as pd\n",
        "from sklearn.decomposition import PCA\n",
        "\n",
        "# Load data from Excel\n",
        "data = pd.read_excel(\"your_excel_file.xlsx\")\n",
        "\n",
        "# Assuming 'X1', 'X2', etc., are the features for dimensionality reduction\n",
        "X = data[['X1_column_name', 'X2_column_name', 'X3_column_name']]  # Use appropriate column names\n",
        "\n",
        "# Perform PCA\n",
        "pca = PCA(n_components=2)  # Adjust the number of components as needed\n",
        "X_reduced = pca.fit_transform(X)\n",
        "\n",
        "# X_reduced contains the reduced-dimensional data\n",
        "print(\"PCA Reduced Data:\")\n",
        "print(X_reduced)\n"
      ],
      "metadata": {
        "id": "3Fdkl5ssDCYc"
      },
      "execution_count": null,
      "outputs": []
    }
  ]
}